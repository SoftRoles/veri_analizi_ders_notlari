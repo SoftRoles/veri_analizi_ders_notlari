{
  "cells": [
    {
      "metadata": {
        "collapsed": true
      },
      "cell_type": "markdown",
      "source": "# 2. Ders\n   \nKonular:\n- Diziler\n- Dosya okuyup yazma\n- Fonksiyonlar\n- Numpy modülü\n- Matplotlib modülü"
    },
    {
      "metadata": {},
      "cell_type": "markdown",
      "source": "## Diziler"
    },
    {
      "metadata": {
        "trusted": true
      },
      "cell_type": "code",
      "source": "array = [3,5,7,10]\nstring = \"dersler\"",
      "execution_count": null,
      "outputs": []
    },
    {
      "metadata": {
        "trusted": true
      },
      "cell_type": "code",
      "source": "array[2]",
      "execution_count": null,
      "outputs": []
    },
    {
      "metadata": {
        "trusted": true
      },
      "cell_type": "code",
      "source": "string[4]",
      "execution_count": null,
      "outputs": []
    },
    {
      "metadata": {
        "trusted": true
      },
      "cell_type": "code",
      "source": "len(array)",
      "execution_count": null,
      "outputs": []
    },
    {
      "metadata": {
        "trusted": true
      },
      "cell_type": "code",
      "source": "for char in string:\n    print(char)",
      "execution_count": null,
      "outputs": []
    },
    {
      "metadata": {
        "trusted": true
      },
      "cell_type": "code",
      "source": "for i in range(len(array)):\n    print(array[i])",
      "execution_count": null,
      "outputs": []
    },
    {
      "metadata": {
        "trusted": true
      },
      "cell_type": "code",
      "source": "array[3] = 9\nprint(array)",
      "execution_count": null,
      "outputs": []
    },
    {
      "metadata": {
        "trusted": true
      },
      "cell_type": "code",
      "source": "string[3] = \"t\"",
      "execution_count": null,
      "outputs": []
    },
    {
      "metadata": {
        "trusted": true
      },
      "cell_type": "code",
      "source": "string.replace(\"s\",\"t\")",
      "execution_count": null,
      "outputs": []
    },
    {
      "metadata": {},
      "cell_type": "markdown",
      "source": "## Dosya Okuyup Yazma"
    },
    {
      "metadata": {},
      "cell_type": "markdown",
      "source": "### Dosya okuma"
    },
    {
      "metadata": {
        "trusted": true
      },
      "cell_type": "code",
      "source": "# tek boşlukla ayrılmış metin dosyası\nwith open(\"Veriler/metin1.txt\", \"r\") as file:  \n    data = file.read()\n    print(data.split())",
      "execution_count": null,
      "outputs": []
    },
    {
      "metadata": {
        "trusted": true
      },
      "cell_type": "code",
      "source": "# alt alta satır halinde girilen metin dosyası\nwith open(\"Veriler/metin2.txt\", \"r\") as file:  \n    data = file.read()\n    print(data.split())",
      "execution_count": null,
      "outputs": []
    },
    {
      "metadata": {
        "trusted": true
      },
      "cell_type": "code",
      "source": "# satırları tek tek okuma\nwith open(\"Veriler/metin2.txt\", \"r\") as file:  \n    data = file.readlines()\n    print(data)",
      "execution_count": null,
      "outputs": []
    },
    {
      "metadata": {},
      "cell_type": "markdown",
      "source": "### Dosyaya yazma"
    },
    {
      "metadata": {
        "trusted": true
      },
      "cell_type": "code",
      "source": "with open(\"Veriler/metin_huseyin.txt\", \"w\") as file:\n    file.write(\"Merhaba\") ",
      "execution_count": null,
      "outputs": []
    },
    {
      "metadata": {
        "trusted": true
      },
      "cell_type": "code",
      "source": "with open(\"Veriler/metin_huseyin.txt\", \"r\") as file:  \n    print(file.read())",
      "execution_count": null,
      "outputs": []
    },
    {
      "metadata": {},
      "cell_type": "markdown",
      "source": "## Fonksiyonlar"
    },
    {
      "metadata": {
        "trusted": true
      },
      "cell_type": "code",
      "source": "# fonksiyon tanımlayalım\ndef tek_mi_cift_mi(number):\n    if number%2 == 1:\n        print(\"Tek\")\n    else:\n        print(\"Çift\")\n\n# fonksiyonu çağıralım\ntek_mi_cift_mi(6)",
      "execution_count": null,
      "outputs": []
    },
    {
      "metadata": {},
      "cell_type": "markdown",
      "source": "## Numpy\n  \n*(Numeric Python = NumPy)*  \n  \n[Resmi Web Sitesi](https://numpy.org)"
    },
    {
      "metadata": {},
      "cell_type": "markdown",
      "source": "### Diziler"
    },
    {
      "metadata": {
        "trusted": true
      },
      "cell_type": "code",
      "source": "# modülü çalışma defterimize aktarıyoruz\nimport numpy as np",
      "execution_count": null,
      "outputs": []
    },
    {
      "metadata": {
        "trusted": true
      },
      "cell_type": "code",
      "source": "# bir sayısal dizi oluşturalım\narr1 = np.array([1,2,3,5,7])\narr1",
      "execution_count": null,
      "outputs": []
    },
    {
      "metadata": {
        "trusted": true
      },
      "cell_type": "code",
      "source": "# 1'lerle dolu olsun\narr2 = np.ones(10)\narr2",
      "execution_count": null,
      "outputs": []
    },
    {
      "metadata": {
        "trusted": true
      },
      "cell_type": "code",
      "source": "# 0'larla dolu olsun\narr3 = np.zeros(10)\narr3",
      "execution_count": null,
      "outputs": []
    },
    {
      "metadata": {
        "trusted": true
      },
      "cell_type": "code",
      "source": "# Rastgeler sayılarla oluşturalım\narr4 = np.random.randint(1,100,10)\narr4",
      "execution_count": null,
      "outputs": []
    },
    {
      "metadata": {
        "trusted": true
      },
      "cell_type": "code",
      "source": "# 2 boyutlu dizi (matris) oluşturalım\narr5 = np.array([[1,2],[3,4], [5,6]])\narr5",
      "execution_count": null,
      "outputs": []
    },
    {
      "metadata": {
        "trusted": true
      },
      "cell_type": "code",
      "source": "# 2 boyutlu rastgele sayılardan bir dizi oluşturalım\narr6 = np.random.randint(1,100,size=(4,4))\narr6",
      "execution_count": null,
      "outputs": []
    },
    {
      "metadata": {},
      "cell_type": "markdown",
      "source": "### Veri Dosyası Okuma"
    },
    {
      "metadata": {
        "trusted": true
      },
      "cell_type": "code",
      "source": "# numpy modülüne ait loadtxt fonksiyonunu kullanıyoruz.\narr7 = np.loadtxt(\"Veriler/metin2.txt\")\narr7",
      "execution_count": null,
      "outputs": []
    },
    {
      "metadata": {
        "trusted": true
      },
      "cell_type": "code",
      "source": "arr8 = np.loadtxt(\"Veriler/veri1.txt\", unpack=True)\narr8",
      "execution_count": null,
      "outputs": []
    },
    {
      "metadata": {},
      "cell_type": "markdown",
      "source": "### Dizi İşlemleri"
    },
    {
      "metadata": {
        "trusted": true
      },
      "cell_type": "code",
      "source": "# dizideki maksimumu bulalım\nprint(arr4)\narr4_max = 0\nfor i in range(len(arr4)):\n    if arr4[i]>arr4_max:\n        arr4_max = arr4[i]\n\nprint(\"arr4 dizisinin maksimumu: %d\"%(arr4_max))",
      "execution_count": null,
      "outputs": []
    },
    {
      "metadata": {
        "trusted": true
      },
      "cell_type": "code",
      "source": "# şimdi işlemi farklı biçimde yapalım\narr4_max2 = np.max(arr4)\nprint(\"arr4 dizisinin maksimumu: %d\"%(arr4_max2))\n",
      "execution_count": null,
      "outputs": []
    },
    {
      "metadata": {
        "trusted": true
      },
      "cell_type": "code",
      "source": "# farklı matemaktiksel ifadeleri uygulayalım\nprint(np.min(arr4))",
      "execution_count": null,
      "outputs": []
    },
    {
      "metadata": {
        "trusted": true
      },
      "cell_type": "code",
      "source": "print(np.sqrt(arr4))",
      "execution_count": null,
      "outputs": []
    },
    {
      "metadata": {
        "trusted": true
      },
      "cell_type": "code",
      "source": "# her bir sayının karesini alalım\nprint(np.power(arr4,3))",
      "execution_count": null,
      "outputs": []
    },
    {
      "metadata": {
        "trusted": true
      },
      "cell_type": "code",
      "source": "# iki diziyi ekleyelim\nprint(arr2)\nprint(arr4)\nprint(np.add(arr4,arr2))",
      "execution_count": null,
      "outputs": []
    },
    {
      "metadata": {
        "trusted": true
      },
      "cell_type": "code",
      "source": "# ancak aynı boyuttaki dizileri ekleyebiliriz\nprint(arr5)\nprint(arr4)\nprint(np.add(arr4,arr5))",
      "execution_count": null,
      "outputs": []
    },
    {
      "metadata": {
        "trusted": true
      },
      "cell_type": "markdown",
      "source": "## Matplotlib"
    },
    {
      "metadata": {
        "trusted": true
      },
      "cell_type": "code",
      "source": "%matplotlib inline\nimport matplotlib.pyplot as plt",
      "execution_count": 2,
      "outputs": []
    },
    {
      "metadata": {
        "trusted": true
      },
      "cell_type": "code",
      "source": "vaka = [1,1,1,5,6,15,47,98,191,359,670,947,1236,1529,1872,2433,3629,5698,7402,9217,10827]\nplt.plot(vaka)\nplt.show()",
      "execution_count": 5,
      "outputs": [
        {
          "output_type": "display_data",
          "data": {
            "image/png": "[encoded data removed]",
            "text/plain": "<Figure size 432x288 with 1 Axes>"
          },
          "metadata": {
            "needs_background": "light"
          }
        }
      ]
    },
    {
      "metadata": {
        "trusted": true
      },
      "cell_type": "code",
      "source": "",
      "execution_count": null,
      "outputs": []
    }
  ],
  "metadata": {
    "kernelspec": {
      "name": "python36",
      "display_name": "Python 3.6",
      "language": "python"
    },
    "language_info": {
      "mimetype": "text/x-python",
      "nbconvert_exporter": "python",
      "name": "python",
      "pygments_lexer": "ipython3",
      "version": "3.6.6",
      "file_extension": ".py",
      "codemirror_mode": {
        "version": 3,
        "name": "ipython"
      }
    }
  },
  "nbformat": 4,
  "nbformat_minor": 2
}