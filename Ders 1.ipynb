{
 "cells": [
  {
   "cell_type": "markdown",
   "metadata": {},
   "source": [
    "# Hakkımda;\n",
    "\n",
    "### Hüseyin YİĞİT\n",
    "#### TÜBİTAK'ta Araştırmacı olarak çalışıyorum.\n",
    "#### Elektronik Mühendisiyim.\n",
    "\n",
    "![](https://baykushizliokuma.com/img/logo-baykus.png)\n",
    "\n",
    "[Baykuş Hızlı Okuma Programı](https://www.baykushizliokuma.com)"
   ]
  },
  {
   "cell_type": "markdown",
   "metadata": {
    "collapsed": true
   },
   "source": [
    "# Ders Hakkında\n",
    "\n",
    "Bu derste;\n",
    "- **Veri, Büyük Veri** ve **Veri Bilimi** nedir?\n",
    "- Veri niçin önemlidir ve nerelerde kullanılır?\n",
    "- Veri olabilme nitelikleri nelerdir?\n",
    "- Programla dilleri ve Python\n",
    "- Jupyter Notebook geliştirme ortamı\n",
    "- Python kodlama dili\n",
    " - 'Merhaba Dünya!'\n",
    " - Değişkenler\n",
    " - Akış kontrolleri\n",
    " - Döngüler\n",
    " - Diziler\n",
    "\n",
    "konuları işlenecektir."
   ]
  },
  {
   "cell_type": "markdown",
   "metadata": {},
   "source": [
    "## Veri, Büyük Veri ve Veri Bilimi Nedir?\n",
    " \n",
    "- Dijital ortamdaki ana özne \n",
    "- Analog - Digital ayrımı (Gerçek vs Sanal Dünya)\n",
    "- Veri bilimi kısaca eldeki verilerden anlamlı bilgilerin derlenmesi olayıdır. Kısmen bilgi toplama tekniklerini de kapsar.\n",
    "- Büyük Veri = Çok sayıda veri\n",
    "- ! Önemli bir husus: Büyük veri tekil girdilerle ilgilenmez.\n",
    "- ? WhatsApp, Google gibi kurumlar hangi veriyi kullanıyor\n"
   ]
  },
  {
   "cell_type": "markdown",
   "metadata": {},
   "source": [
    "## Veri Niçin Önemlidir ve Nerelerde Kullanılır?"
   ]
  },
  {
   "cell_type": "markdown",
   "metadata": {},
   "source": [
    "![](https://leanbi.ch/wp-content/uploads/2019/03/DataScience-1.jpg)"
   ]
  },
  {
   "cell_type": "markdown",
   "metadata": {},
   "source": [
    "![](https://intellipaat.com/blog/wp-content/uploads/2016/11/What-is-Data-Science.docx.jpg)"
   ]
  },
  {
   "cell_type": "markdown",
   "metadata": {},
   "source": [
    "## Veri Olabilme Nitelikleri\n",
    "\n",
    "- Hangisi daha değerli veridir?\n",
    "\n",
    " - a) Video (100-2000 Mb)  \n",
    " - b) Resim (5-10 Mb)  \n",
    " - c) Metin (10 kB - 1 Mb)  \n",
    "   \n",
    "- Metin ve sayılar\n",
    "- Bilgisayarın diline yakın olma?\n",
    " - İnsan -> Ahmet işe bugün geldi mi: Geldi / Gelmedi\n",
    " - Makine -> Ahmet işe bugün geldi mi: 1 / 0"
   ]
  },
  {
   "cell_type": "markdown",
   "metadata": {},
   "source": [
    "## Programlama Dilleri ve Python"
   ]
  },
  {
   "cell_type": "markdown",
   "metadata": {},
   "source": [
    "![](https://blogs-images.forbes.com/louiscolumbus/files/2019/04/LinkedIns-Top-10-Data-Science-Skills-in-April-2019.jpeg)"
   ]
  },
  {
   "cell_type": "markdown",
   "metadata": {},
   "source": [
    "**Endsütriyel Standarttak Paket Yazılımlar**"
   ]
  },
  {
   "cell_type": "markdown",
   "metadata": {},
   "source": [
    "1- SAS  \n",
    "![](https://corelogictechnologies.com/wp-content/uploads/2017/10/06.jpg) "
   ]
  },
  {
   "cell_type": "markdown",
   "metadata": {},
   "source": [
    "2- SPSS  \n",
    "![](https://fiverr-res.cloudinary.com/images/t_main1,q_auto,f_auto/gigs/104072787/original/3977d49c5dc7048f5f9e7ac871c3b3d77de31016/do-statistical-analysis-using-r-stata-and-spss.jpg)"
   ]
  },
  {
   "cell_type": "markdown",
   "metadata": {},
   "source": [
    "## Jupyter Notebook"
   ]
  },
  {
   "cell_type": "markdown",
   "metadata": {},
   "source": [
    "- Sunucu ve Python tabanlı\n",
    "- İnteraktif defter\n",
    "- Metin + Kod + Web Sayfası\n",
    "- Azure Notebook: Microsoft'un ücretsiz deneme platformu\n",
    "- Kendi platformunuzu da kurabilirsiniz.\n"
   ]
  },
  {
   "cell_type": "markdown",
   "metadata": {},
   "source": [
    "### Hücreler"
   ]
  },
  {
   "cell_type": "code",
   "execution_count": null,
   "metadata": {},
   "outputs": [],
   "source": [
    "# Bu bir kod hücresidir. Kodu hesaplatmak için Ctrl+Enter veya Shift+Enter'a basın\n",
    "a = 2 + 5\n",
    "a"
   ]
  },
  {
   "cell_type": "markdown",
   "metadata": {},
   "source": [
    "Bu bir metin **Markdown** hücresidir.  \n",
    "Markdown kullanımı için [Kullanım Kılavuzu](https://github.com/adam-p/markdown-here/wiki/Markdown-Cheatsheet)"
   ]
  },
  {
   "cell_type": "markdown",
   "metadata": {},
   "source": [
    "## Python Programlama Dili"
   ]
  },
  {
   "cell_type": "markdown",
   "metadata": {},
   "source": [
    "### Merhaba Dünya"
   ]
  },
  {
   "cell_type": "code",
   "execution_count": null,
   "metadata": {},
   "outputs": [],
   "source": [
    "# Ekrana yazdırma\n",
    "print(\"Merhaba Dünya\")"
   ]
  },
  {
   "cell_type": "code",
   "execution_count": null,
   "metadata": {},
   "outputs": [],
   "source": [
    "print(2+5)"
   ]
  },
  {
   "cell_type": "code",
   "execution_count": null,
   "metadata": {},
   "outputs": [],
   "source": [
    "print(22/7)"
   ]
  },
  {
   "cell_type": "code",
   "execution_count": null,
   "metadata": {},
   "outputs": [],
   "source": [
    "# Metin formatlama %s, %d, %f\n",
    "# 1- %s: Harfler (Strings) \n",
    "print(\"Merhaba, benim adım %s\"%(\"Hüseyin\"))"
   ]
  },
  {
   "cell_type": "code",
   "execution_count": null,
   "metadata": {},
   "outputs": [],
   "source": [
    "# 2- %d: Tamsayılar (Integers)\n",
    "print(\"Bir gün kaç saniyedir?: %dx%d=%d saniye\"%(24,60,24*60))"
   ]
  },
  {
   "cell_type": "code",
   "execution_count": null,
   "metadata": {},
   "outputs": [],
   "source": [
    "# 3- %f: Virgüllü sayılar (Floating numbers)\n",
    "print(\"Pi sayısı: Pi = %d/%d ~= %f\"%(22,7,22/7))\n",
    "print(\"Pi sayısını virgülden sonra 2 haneye kadar yazdıralım: Pi = %d/%d ~= %.2f\"%(22,7,22/7))"
   ]
  },
  {
   "cell_type": "markdown",
   "metadata": {},
   "source": [
    "### Değişkenler"
   ]
  },
  {
   "cell_type": "code",
   "execution_count": null,
   "metadata": {},
   "outputs": [],
   "source": [
    "# Bir değişken tanımlayıp ona bir değer atayalım\n",
    "name = \"Hüseyin\"\n",
    "age = 35\n",
    "height = 1.78\n",
    "\n",
    "# Şimdi bu değişkneleri yukarıdaki gibi yazdıralım\n",
    "print('Adım: {}, Yaşım: {}, Boyum: {}'.format(name, age, height))\n",
    "\n",
    "height = 1.80\n",
    "print('Adım: {}, Yaşım: {}, Boyum: {}'.format(name, age, height))"
   ]
  },
  {
   "cell_type": "markdown",
   "metadata": {},
   "source": [
    "### Akış Kontrolleri"
   ]
  },
  {
   "cell_type": "code",
   "execution_count": null,
   "metadata": {},
   "outputs": [],
   "source": [
    "if age > 35:\n",
    "    print(\"Yolun yarısı bitti.\")\n",
    "elif age == 35:\n",
    "    print(\"Yolu yarıladın.\")\n",
    "else:\n",
    "    print(\"Daha vaktin var gibi...\")"
   ]
  },
  {
   "cell_type": "markdown",
   "metadata": {},
   "source": [
    "### Döngüler"
   ]
  },
  {
   "cell_type": "markdown",
   "metadata": {},
   "source": [
    "#### 'for' döngüsü"
   ]
  },
  {
   "cell_type": "code",
   "execution_count": null,
   "metadata": {},
   "outputs": [],
   "source": [
    "for i in range(35):\n",
    "     print('%d yaşındasın.'%(i))"
   ]
  },
  {
   "cell_type": "markdown",
   "metadata": {},
   "source": [
    "#### 'while' döngüsü"
   ]
  },
  {
   "cell_type": "code",
   "execution_count": null,
   "metadata": {},
   "outputs": [],
   "source": [
    "yıl = 1985\n",
    "while yıl <= 2020:\n",
    "    print('%d yaşındasın.'%(yıl - 1985))\n",
    "    yıl += 1"
   ]
  },
  {
   "cell_type": "markdown",
   "metadata": {},
   "source": [
    "### Diziler"
   ]
  },
  {
   "cell_type": "code",
   "execution_count": null,
   "metadata": {},
   "outputs": [],
   "source": [
    "array = [3,5,7,10]\n",
    "string = \"dersler\""
   ]
  },
  {
   "cell_type": "code",
   "execution_count": null,
   "metadata": {},
   "outputs": [],
   "source": [
    "array[2]"
   ]
  },
  {
   "cell_type": "code",
   "execution_count": null,
   "metadata": {},
   "outputs": [],
   "source": [
    "string[4]"
   ]
  },
  {
   "cell_type": "code",
   "execution_count": null,
   "metadata": {},
   "outputs": [],
   "source": [
    "len(array)"
   ]
  },
  {
   "cell_type": "code",
   "execution_count": null,
   "metadata": {},
   "outputs": [],
   "source": [
    "for char in string:\n",
    "    print(char)"
   ]
  },
  {
   "cell_type": "code",
   "execution_count": null,
   "metadata": {},
   "outputs": [],
   "source": [
    "for i in range(len(array)):\n",
    "    print(array[i])"
   ]
  },
  {
   "cell_type": "code",
   "execution_count": null,
   "metadata": {},
   "outputs": [],
   "source": [
    "array[3] = 9\n",
    "print(array)"
   ]
  },
  {
   "cell_type": "code",
   "execution_count": null,
   "metadata": {},
   "outputs": [],
   "source": [
    "string.replace(\"s\",\"t\")"
   ]
  }
 ],
 "metadata": {
  "kernelspec": {
   "display_name": "Python 3",
   "language": "python",
   "name": "python3"
  },
  "language_info": {
   "codemirror_mode": {
    "name": "ipython",
    "version": 3
   },
   "file_extension": ".py",
   "mimetype": "text/x-python",
   "name": "python",
   "nbconvert_exporter": "python",
   "pygments_lexer": "ipython3",
   "version": "3.8.3"
  }
 },
 "nbformat": 4,
 "nbformat_minor": 2
}
